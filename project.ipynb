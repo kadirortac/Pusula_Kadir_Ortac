{
 "cells": [
  {
   "cell_type": "code",
   "execution_count": null,
   "id": "078b8bd7",
   "metadata": {
    "lines_to_next_cell": 1
   },
   "outputs": [],
   "source": [
    "import pandas as pd\n",
    "import numpy as np\n",
    "import matplotlib.pyplot as plt\n",
    "import seaborn as sns\n",
    "from sklearn.impute import SimpleImputer, KNNImputer\n",
    "from sklearn.preprocessing import  LabelEncoder\n",
    "from scipy.stats import chi2_contingency"
   ]
  },
  {
   "cell_type": "code",
   "execution_count": null,
   "id": "a6975c11",
   "metadata": {
    "lines_to_next_cell": 1
   },
   "outputs": [],
   "source": [
    "# Veri yükleme fonksiyonu\n",
    "def load_data(file_path):\n",
    "    return pd.read_excel(file_path)"
   ]
  },
  {
   "cell_type": "code",
   "execution_count": null,
   "id": "ea0df5b1",
   "metadata": {
    "lines_to_next_cell": 1
   },
   "outputs": [],
   "source": [
    "# Eksik verileri görselleştirme fonksiyonu\n",
    "def visualize_missing_data(df):\n",
    "    plt.figure(figsize=(10, 6))\n",
    "    sns.heatmap(df.isnull(), cbar=False, cmap='viridis')\n",
    "    plt.title('Eksik Veriler Haritası')\n",
    "    plt.show()"
   ]
  },
  {
   "cell_type": "code",
   "execution_count": null,
   "id": "ea78d308",
   "metadata": {
    "lines_to_next_cell": 1
   },
   "outputs": [],
   "source": [
    "# Aykırı değerleri görselleştirme fonksiyonu\n",
    "def visualize_outliers(df):\n",
    "    plt.figure(figsize=(12, 6))\n",
    "    for i, col in enumerate(df.select_dtypes(include=[np.number]).columns, 1):\n",
    "        plt.subplot(3, 4, i)\n",
    "        sns.boxplot(df[col])\n",
    "        plt.title(f'{col} - Kutu Grafiği')\n",
    "    plt.tight_layout()\n",
    "    plt.show()"
   ]
  },
  {
   "cell_type": "code",
   "execution_count": null,
   "id": "2b6f6f59",
   "metadata": {
    "lines_to_next_cell": 1
   },
   "outputs": [],
   "source": [
    "# Kategorik verileri görselleştirme fonksiyonu\n",
    "def plot_categorical_distribution(df, column, n=10):\n",
    "    def top_n_categories(series, n):\n",
    "        top_categories = series.value_counts().nlargest(n).index\n",
    "        return series.apply(lambda x: x if x in top_categories else 'Diğer')\n",
    "    \n",
    "    temp_df = df.copy()\n",
    "    if temp_df[column].nunique() > 20:\n",
    "        temp_df[column + '_Top'] = top_n_categories(temp_df[column], n=n)\n",
    "        plt.figure(figsize=(12, 6))\n",
    "        ax = sns.countplot(data=temp_df, x=column + '_Top', order=temp_df[column + '_Top'].value_counts().index)\n",
    "        plt.title(f'{column} - En Sık Görülen {n} Kategori')\n",
    "    else:\n",
    "        plt.figure(figsize=(12, 6))\n",
    "        ax = sns.countplot(data=temp_df, x=column, order=temp_df[column].value_counts().index)\n",
    "        plt.title(f'{column} - Dağılımı')\n",
    "    \n",
    "    plt.xticks(rotation=45, ha='right')\n",
    "    plt.show()"
   ]
  },
  {
   "cell_type": "code",
   "execution_count": null,
   "id": "fc8f23f1",
   "metadata": {
    "lines_to_next_cell": 1
   },
   "outputs": [],
   "source": [
    "# Veri çerçevesinin temel bilgilerini gösteren fonksiyon\n",
    "def display_basic_info(df):\n",
    "    print(f\"Veri Kümesi Boyutu: {df.shape}\")\n",
    "    print(\"Değişken İsimleri:\", df.columns)\n",
    "    print(\"Veri Tipleri:\", df.dtypes)\n",
    "    print(\"Boş Değer Sayıları:\", df.isnull().sum())\n",
    "    print(\"\\nVeri çerçevesinin bilgileri:\")\n",
    "    print(df.info())\n",
    "    print(\"\\nTemel istatistikler:\")\n",
    "    print(df.describe())"
   ]
  },
  {
   "cell_type": "code",
   "execution_count": null,
   "id": "bc533528",
   "metadata": {
    "lines_to_next_cell": 1
   },
   "outputs": [],
   "source": [
    "# Chi-Square testi fonksiyonu\n",
    "def chi_square_test(df, col1, col2):\n",
    "    kontenjans_tablosu = pd.crosstab(df[col1], df[col2])\n",
    "    chi2_stat, p_value, dof, expected = chi2_contingency(kontenjans_tablosu)\n",
    "    return chi2_stat, p_value"
   ]
  },
  {
   "cell_type": "code",
   "execution_count": null,
   "id": "aaeec475",
   "metadata": {
    "lines_to_next_cell": 1
   },
   "outputs": [],
   "source": [
    "# Veri temizleme ve doldurma işlemleri\n",
    "def clean_and_fill_data(df):\n",
    "    simpleimputer = SimpleImputer(strategy='most_frequent')\n",
    "    df['Cinsiyet'] = df.groupby('Il')['Cinsiyet'].transform(lambda x: x.fillna(x.mode()[0] if not x.mode().empty else 'Belirtilmemiş'))\n",
    "    \n",
    "    filled_values = simpleimputer.fit_transform(df[['Il']])\n",
    "    df['Il'] = pd.DataFrame(filled_values, columns=['Il'])\n",
    "    \n",
    "    df[['Alerjilerim', 'Kronik Hastaliklarim']] = df[['Alerjilerim', 'Kronik Hastaliklarim']].fillna('Bilinmiyor')\n",
    "    \n",
    "    filled_values = simpleimputer.fit_transform(df[['Kan Grubu']])\n",
    "    df[\"Kan Grubu\"] = pd.DataFrame(filled_values, columns=[\"Kan Grubu\"])\n",
    "    \n",
    "    imputer = KNNImputer(n_neighbors=5)\n",
    "    filled_values = imputer.fit_transform(df[['Boy', 'Kilo', 'Yas']])\n",
    "    df[['Boy', 'Kilo', 'Yas']] = pd.DataFrame(filled_values, columns=['Boy', 'Kilo', 'Yas'])\n",
    "    \n",
    "    return df"
   ]
  },
  {
   "cell_type": "code",
   "execution_count": null,
   "id": "d585db3f",
   "metadata": {
    "lines_to_next_cell": 1
   },
   "outputs": [],
   "source": [
    "# Kronik hastalıkları kategorize etme fonksiyonu\n",
    "def categorize_chronic_diseases(df):\n",
    "    def kronik_hastalik_kategorileri(x):\n",
    "        kronik_hastalıklar = ['Hipertansiyon', 'Kan Hastalıkları', 'Diyabet', 'KOAH', 'Alzheimer', 'Kanser', 'Guatr', 'Kalp Hastalıkları', 'Astim', 'Kemik Erimesi', 'Diger']\n",
    "        kategoriler = [hastalık for hastalık in kronik_hastalıklar if hastalık in str(x)]\n",
    "        return ', '.join(kategoriler) if kategoriler else 'Bilinmiyor'\n",
    "\n",
    "    for col in ['Kronik Hastaliklarim', 'Baba Kronik Hastaliklari', 'Anne Kronik Hastaliklari', 'Kiz Kardes Kronik Hastaliklari', 'Erkek Kardes Kronik Hastaliklari']:\n",
    "        df[col] = df[col].apply(kronik_hastalik_kategorileri)\n",
    "    \n",
    "    return df"
   ]
  },
  {
   "cell_type": "code",
   "execution_count": null,
   "id": "5854fe4e",
   "metadata": {
    "lines_to_next_cell": 1
   },
   "outputs": [],
   "source": [
    "# İlaç adlarını kategorize etme fonksiyonu\n",
    "def categorize_medication_names(df):\n",
    "    top_30_ilaclar = df['Ilac_Adi'].value_counts().nlargest(30).index\n",
    "    df['Ilac_Adi'] = df['Ilac_Adi'].apply(lambda x: x if x in top_30_ilaclar else 'Diğer')\n",
    "    return df"
   ]
  },
  {
   "cell_type": "code",
   "execution_count": null,
   "id": "37eb4304",
   "metadata": {
    "lines_to_next_cell": 1
   },
   "outputs": [],
   "source": [
    "# Kilo, boy ve yaş kategorize etme fonksiyonları\n",
    "def categorize_weight(weight):\n",
    "    if weight <= 60:\n",
    "        return 'Düşük'\n",
    "    elif weight <= 80:\n",
    "        return 'Orta'\n",
    "    else:\n",
    "        return 'Yüksek'"
   ]
  },
  {
   "cell_type": "code",
   "execution_count": null,
   "id": "3b503111",
   "metadata": {
    "lines_to_next_cell": 1
   },
   "outputs": [],
   "source": [
    "def categorize_height(height):\n",
    "    if height <= 160:\n",
    "        return 'Kısa'\n",
    "    elif height <= 180:\n",
    "        return 'Orta'\n",
    "    else:\n",
    "        return 'Uzun'"
   ]
  },
  {
   "cell_type": "code",
   "execution_count": null,
   "id": "1c7eb56b",
   "metadata": {
    "lines_to_next_cell": 1
   },
   "outputs": [],
   "source": [
    "def categorize_age(age):\n",
    "    if age <= 12:\n",
    "        return 'Çocuk'\n",
    "    elif age <= 24:\n",
    "        return 'Genç'\n",
    "    elif age <= 64:\n",
    "        return 'Yetişkin'\n",
    "    else:\n",
    "        return 'Yaşlı'"
   ]
  },
  {
   "cell_type": "code",
   "execution_count": null,
   "id": "c01c4d60",
   "metadata": {
    "lines_to_next_cell": 1
   },
   "outputs": [],
   "source": [
    "# Kategorileştirme fonksiyonlarını uygulama\n",
    "def apply_categorization(df):\n",
    "    df['Kilo'] = df['Kilo'].apply(categorize_weight)\n",
    "    df['Boy'] = df['Boy'].apply(categorize_height)\n",
    "    df['Yas'] = df['Yas'].apply(categorize_age)\n",
    "    return df"
   ]
  },
  {
   "cell_type": "code",
   "execution_count": null,
   "id": "95a9ea6a",
   "metadata": {
    "lines_to_next_cell": 1
   },
   "outputs": [],
   "source": [
    "# Ana işlem akışı\n",
    "def main_pipeline(file_path):\n",
    "    df = load_data(file_path)\n",
    "    visualize_missing_data(df)\n",
    "    visualize_outliers(df)\n",
    "    display_basic_info(df)\n",
    "    \n",
    "    # Kategorik sütunların dağılım grafiğini oluşturma\n",
    "    categorical_columns = df.select_dtypes(include=['object']).columns\n",
    "    for col in categorical_columns:\n",
    "        plot_categorical_distribution(df, col)\n",
    "\n",
    "    # Veri temizleme\n",
    "    df = clean_and_fill_data(df)\n",
    "    \n",
    "    # Kronik hastalık ve ilaç adlarını kategorize etme\n",
    "    df = categorize_chronic_diseases(df)\n",
    "    df = categorize_medication_names(df)\n",
    "    \n",
    "    # Yaş hesaplama\n",
    "    df['Yas'] = 2024 - df['Dogum_Tarihi'].dt.year\n",
    "    \n",
    "    # Kategorileştirme\n",
    "    df = apply_categorization(df)\n",
    "    \n",
    "    # Kategorik değişkenleri sayısal forma dönüştürme\n",
    "    categorical_columns = [\n",
    "        'Cinsiyet', 'Il', 'Ilac_Adi', 'Alerjilerim', 'Kronik Hastaliklarim',\n",
    "        'Baba Kronik Hastaliklari', 'Anne Kronik Hastaliklari',\n",
    "        'Kiz Kardes Kronik Hastaliklari', 'Erkek Kardes Kronik Hastaliklari',\n",
    "        'Kan Grubu', 'Yas', 'Kilo', 'Boy'\n",
    "    ]\n",
    "    \n",
    "    for column in categorical_columns:\n",
    "        le = LabelEncoder()\n",
    "        df[column] = le.fit_transform(df[column])\n",
    "    \n",
    "    # Chi-Square testi örnekleri\n",
    "    test_columns = [('Cinsiyet', 'Kronik Hastaliklarim'), ('Cinsiyet', 'Yan_Etki'), ('Alerjilerim', 'Il')]\n",
    "    results = []\n",
    "    \n",
    "    for col1, col2 in test_columns:\n",
    "        chi2_stat, p_value = chi_square_test(df, col1, col2)\n",
    "        bağımsızlık = 'Bağımsız' if p_value >= 0.05 else 'Bağımsız Değil'\n",
    "        results.append({'Sütun1': col1, 'Sütun2': col2, 'Chi2 Stat': chi2_stat, 'P Değeri': p_value, 'Bağımsızlık': bağımsızlık})\n",
    "\n",
    "    sonuç_df = pd.DataFrame(results)\n",
    "    print(sonuç_df)"
   ]
  },
  {
   "cell_type": "code",
   "execution_count": null,
   "id": "163c169c",
   "metadata": {},
   "outputs": [],
   "source": [
    "# Programı çalıştır\n",
    "main_pipeline('side_effect_data.xlsx')"
   ]
  }
 ],
 "metadata": {
  "jupytext": {
   "cell_metadata_filter": "-all",
   "main_language": "python",
   "notebook_metadata_filter": "-all"
  },
  "language_info": {
   "name": "python"
  }
 },
 "nbformat": 4,
 "nbformat_minor": 5
}
